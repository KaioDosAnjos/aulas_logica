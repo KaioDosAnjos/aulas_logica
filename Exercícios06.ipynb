{
 "cells": [
  {
   "cell_type": "markdown",
   "metadata": {},
   "source": [
    "1. Utilizando o comando for, exiba todos os números impares, de 1 a 40."
   ]
  },
  {
   "cell_type": "code",
   "execution_count": null,
   "metadata": {},
   "outputs": [],
   "source": [
    "for x in range (1,40) :\n",
    "    if x == 41 :\n",
    "        break\n",
    "    print(x)"
   ]
  },
  {
   "cell_type": "markdown",
   "metadata": {},
   "source": [
    "2. Gere os 6 números do sorteio da mega-sena de forma aleatória."
   ]
  },
  {
   "cell_type": "code",
   "execution_count": null,
   "metadata": {},
   "outputs": [],
   "source": [
    "import random\n",
    "\n",
    "for x in range (1,6) :\n",
    "    x = random.randint (1,60)\n",
    "    print(x)\n",
    "        \n",
    "        \n",
    "\n",
    "\n",
    "    \n",
    "   \n",
    "    \n",
    "    \n"
   ]
  },
  {
   "cell_type": "markdown",
   "metadata": {},
   "source": [
    "3. Receba 5 números e verifique a soma e a quantidade de todos os pares e ímpares digitados"
   ]
  },
  {
   "cell_type": "code",
   "execution_count": null,
   "metadata": {},
   "outputs": [],
   "source": [
    "soma = 0\n",
    "Qtpar = 0\n",
    "Qtimpar = 0\n",
    "\n",
    "for x in range (1,5) :\n",
    "    numero = int(input('Digite o número'))\n",
    "if numero == 0 :\n",
    "    if numero %2 == 0 :\n",
    "        Qtpar += 1\n",
    "else :\n",
    "    Qtimpar += 1\n",
    "soma += numero\n",
    "\n",
    "print(f'A soma é {soma} são {Qtpar} pares e {Qtimpar} impares')\n",
    "\n",
    "   \n",
    "    \n",
    "\n",
    "\n",
    "\n",
    "    \n"
   ]
  },
  {
   "cell_type": "markdown",
   "metadata": {},
   "source": [
    "4. Solicite os parâmetros de início, fim e passo para o laço de repetição usando a função range()\n",
    "e exiba o valor atual da variável de controle a cada iteração. range( x , y , z )"
   ]
  },
  {
   "cell_type": "code",
   "execution_count": null,
   "metadata": {},
   "outputs": [],
   "source": [
    "inicio = float(input('Solicitar parametro'))\n",
    "fim = float(input('Solicite o parametro'))\n",
    "passo = float(input('Solicite o prametro'))\n",
    "\n",
    "for valor in range (inicio, fim , passo) :\n",
    "    print(valor)\n"
   ]
  }
 ],
 "metadata": {
  "kernelspec": {
   "display_name": "Python 3",
   "language": "python",
   "name": "python3"
  },
  "language_info": {
   "codemirror_mode": {
    "name": "ipython",
    "version": 3
   },
   "file_extension": ".py",
   "mimetype": "text/x-python",
   "name": "python",
   "nbconvert_exporter": "python",
   "pygments_lexer": "ipython3",
   "version": "3.12.2"
  }
 },
 "nbformat": 4,
 "nbformat_minor": 2
}
