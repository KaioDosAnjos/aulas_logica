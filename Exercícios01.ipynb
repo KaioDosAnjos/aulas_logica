{
 "cells": [
  {
   "cell_type": "markdown",
   "metadata": {},
   "source": [
    "00 - Faça um programa que leia algo pelo teclado e mostre na\n",
    "tela o seu tipo primitivo."
   ]
  },
  {
   "cell_type": "code",
   "execution_count": 7,
   "metadata": {},
   "outputs": [
    {
     "name": "stdout",
     "output_type": "stream",
     "text": [
      "<class 'str'>\n"
     ]
    }
   ],
   "source": [
    "valor = input('digite qualquer coisa')\n",
    "print(type(valor))\n"
   ]
  },
  {
   "cell_type": "markdown",
   "metadata": {},
   "source": [
    "01 - Crie um programa que leia dois números e mostre a soma\n",
    "entre eles."
   ]
  },
  {
   "cell_type": "code",
   "execution_count": 12,
   "metadata": {},
   "outputs": [
    {
     "name": "stdout",
     "output_type": "stream",
     "text": [
      "O resultado é : 5.0\n"
     ]
    }
   ],
   "source": [
    "numero1 = float(input('Digite o primeiro numero'))\n",
    "numero2 = float(input('Digite o segundo numero'))\n",
    "soma = numero1 + numero2 \n",
    "print(f'O resultado é : {soma}')"
   ]
  },
  {
   "cell_type": "markdown",
   "metadata": {},
   "source": [
    "02 - Crie um programa que leia um número inteiro e mostre na\n",
    "tela o seu sucessor e antecessor."
   ]
  },
  {
   "cell_type": "code",
   "execution_count": 17,
   "metadata": {},
   "outputs": [
    {
     "name": "stdout",
     "output_type": "stream",
     "text": [
      "O antecessor de 10 é 9\n",
      "O sucessor de 10 é 11\n"
     ]
    }
   ],
   "source": [
    "numero = int(input('Digite um numero inteiro'))\n",
    "antecessor = numero - 1 \n",
    "sucessor = numero + 1\n",
    "print (f'O antecessor de {numero} é {antecessor}')\n",
    "print (f'O sucessor de {numero} é {sucessor}')"
   ]
  },
  {
   "cell_type": "markdown",
   "metadata": {},
   "source": [
    "03 - Crie um programa que leia um número e mostre o seu\n",
    "dobro, triplo e raiz quadrada."
   ]
  },
  {
   "cell_type": "code",
   "execution_count": 15,
   "metadata": {},
   "outputs": [
    {
     "name": "stdout",
     "output_type": "stream",
     "text": [
      "Seu numero é 5.0, o dobro é 10.0, o triplo é 15.0 e a raiz é 2.23606797749979\n"
     ]
    }
   ],
   "source": [
    "numero = float(input('Digite um numero:'))\n",
    "dobro = numero * 2\n",
    "triplo = numero * 3\n",
    "raiz = numero ** 0.5\n",
    "print(f'Seu numero é {numero}, o dobro é {dobro}, o triplo é {triplo} e a raiz é {raiz}')"
   ]
  },
  {
   "cell_type": "markdown",
   "metadata": {},
   "source": [
    "04 - Crie um programa que leia duas notas de um aluno, calcule\n",
    "e mostre sua média."
   ]
  },
  {
   "cell_type": "code",
   "execution_count": 22,
   "metadata": {},
   "outputs": [
    {
     "name": "stdout",
     "output_type": "stream",
     "text": [
      "8.5\n"
     ]
    }
   ],
   "source": [
    "nota1 = float(input('Digite a nota 1:'))\n",
    "nota2 = float(input('Digite a nota 2'))\n",
    "media = (nota1 + nota2) / 2\n",
    "print (media)"
   ]
  },
  {
   "cell_type": "markdown",
   "metadata": {},
   "source": [
    "05 - Crie um programa que leia o valor em metros e o exiba\n",
    "convertido em centímetros e milímetros."
   ]
  },
  {
   "cell_type": "code",
   "execution_count": 24,
   "metadata": {},
   "outputs": [
    {
     "name": "stdout",
     "output_type": "stream",
     "text": [
      "10.0m é igual a 1000.0cm e a medida em mm é 10000.0mm\n"
     ]
    }
   ],
   "source": [
    "metro = float(input('Insira uma medida em metros:'))\n",
    "mm = metro * 1000\n",
    "cm = metro * 100\n",
    "print(f'{metro}m é igual a {cm}cm e a medida em mm é {mm}mm')"
   ]
  },
  {
   "cell_type": "markdown",
   "metadata": {},
   "source": [
    "06 - Crie um programa que leia um numero qualquer e mostre\n",
    "na tela a sua tabuada."
   ]
  },
  {
   "cell_type": "code",
   "execution_count": 26,
   "metadata": {},
   "outputs": [
    {
     "name": "stdout",
     "output_type": "stream",
     "text": [
      "90 X 1 = 90\n",
      "90 X 2 = 180\n",
      "90 X 3 = 270\n",
      "90 X 4 = 360\n",
      "90 X 5 = 450\n",
      "90 X 6 = 540\n",
      "90 X 7 = 630\n",
      "90 X 8 = 720\n",
      "90 X 9 = 810\n",
      "90 X 10 = 900\n"
     ]
    }
   ],
   "source": [
    "numero = int(input('Digite um numero real para calcular a tabuada'))\n",
    "\n",
    "print(f'{numero} X 1 = {numero *1}' )\n",
    "print(f'{numero} X 2 = {numero *2}' )\n",
    "print(f'{numero} X 3 = {numero *3}' )\n",
    "print(f'{numero} X 4 = {numero *4}' )\n",
    "print(f'{numero} X 5 = {numero *5}' )\n",
    "print(f'{numero} X 6 = {numero *6}' )\n",
    "print(f'{numero} X 7 = {numero *7}' )\n",
    "print(f'{numero} X 8 = {numero *8}' )\n",
    "print(f'{numero} X 9 = {numero *9}' )\n",
    "print(f'{numero} X 10 = {numero *10}')\n",
    "\n"
   ]
  },
  {
   "cell_type": "markdown",
   "metadata": {},
   "source": [
    "07 - Crie um programa que leia quanto dinheiro a pessoa tem na\n",
    "carteira e mostre quantos dólares ela pode contar."
   ]
  },
  {
   "cell_type": "code",
   "execution_count": 28,
   "metadata": {},
   "outputs": [
    {
     "name": "stdout",
     "output_type": "stream",
     "text": [
      "Voce tem $10.0\n"
     ]
    }
   ],
   "source": [
    "real = float(input('Valor em Reais'))\n",
    "dolar = real / 5 \n",
    "print(f'Voce tem ${dolar}')\n"
   ]
  },
  {
   "cell_type": "markdown",
   "metadata": {},
   "source": [
    "08 - Crie um programa que leia a largura e a altura de uma\n",
    "parede em metros, calcule a sua área e a quantidade de tinta\n",
    "necessária para pintá-lo, sabendo que cada litro de tinta pinta\n",
    "uma área de 2m2."
   ]
  },
  {
   "cell_type": "code",
   "execution_count": 29,
   "metadata": {},
   "outputs": [
    {
     "name": "stdout",
     "output_type": "stream",
     "text": [
      "Para pintar uma área de 100.0m2, preciso de 50.0l\n"
     ]
    }
   ],
   "source": [
    "altura = float(input('Digite a altura'))\n",
    "largura = float(input('Digite a largura'))\n",
    "area = altura * largura \n",
    "litros = area / 2\n",
    "print(f'Para pintar uma área de {area}m2, preciso de {litros}l')"
   ]
  },
  {
   "cell_type": "markdown",
   "metadata": {},
   "source": [
    "09 - Faça um algoritmo que leia o preço do produto e mostre\n",
    "seu novo preço com 5% de desconto."
   ]
  },
  {
   "cell_type": "code",
   "execution_count": 30,
   "metadata": {},
   "outputs": [
    {
     "name": "stdout",
     "output_type": "stream",
     "text": [
      "63.65\n"
     ]
    }
   ],
   "source": [
    "valor = float(input('Calcule o valor do produto'))\n",
    "desconto = valor * 5 / 100\n",
    "\n",
    "valor = valor - desconto\n",
    "print(valor)"
   ]
  },
  {
   "cell_type": "markdown",
   "metadata": {},
   "source": [
    "10 - Faça um algoritmo que leia o salário do funcionário e\n",
    "mostre seu novo salário com 15% de aumento."
   ]
  },
  {
   "cell_type": "code",
   "execution_count": 31,
   "metadata": {},
   "outputs": [
    {
     "name": "stdout",
     "output_type": "stream",
     "text": [
      "1150.0\n"
     ]
    }
   ],
   "source": [
    "Salario = int(input('Salario do Funcionario'))\n",
    "Aumento = (Salario / 100) *  15\n",
    "Salario = Salario + Aumento \n",
    "\n",
    "print(Salario)"
   ]
  },
  {
   "cell_type": "markdown",
   "metadata": {},
   "source": [
    "11 - Faça um algoritmo que receba um valor em graus Celsius e\n",
    "converta para farenheit."
   ]
  },
  {
   "cell_type": "code",
   "execution_count": 32,
   "metadata": {},
   "outputs": [
    {
     "name": "stdout",
     "output_type": "stream",
     "text": [
      "100.0°C é igual a 212.0°F\n"
     ]
    }
   ],
   "source": [
    "graus = float(input('Digite a temperatura em °C'))\n",
    "valor = graus * 1.8 + 32\n",
    "print(f'{graus}°C é igual a {valor}°F')"
   ]
  },
  {
   "cell_type": "markdown",
   "metadata": {},
   "source": [
    "12 - Faça um algoritmo que pergunte a quantidade de km\n",
    "percorridos por um carro alugado e a quantidade de dias pelos\n",
    "quais ele foi alugado. Calcule o preço a pagar, sabendo que o\n",
    "carro custa R$60 por dia e R$0.15 por km rodado."
   ]
  },
  {
   "cell_type": "code",
   "execution_count": 35,
   "metadata": {},
   "outputs": [
    {
     "name": "stdout",
     "output_type": "stream",
     "text": [
      "O valor total será de R$603.00\n"
     ]
    }
   ],
   "source": [
    "km = float(input('Digite o km percorrido:'))\n",
    "dias = int(input('Digite a quantidade de dias:'))\n",
    "pagar = (60 * dias) + (0.15 * km)\n",
    "print (f'O valor total será de R${pagar:.2f}')\n"
   ]
  }
 ],
 "metadata": {
  "kernelspec": {
   "display_name": "Python 3",
   "language": "python",
   "name": "python3"
  },
  "language_info": {
   "codemirror_mode": {
    "name": "ipython",
    "version": 3
   },
   "file_extension": ".py",
   "mimetype": "text/x-python",
   "name": "python",
   "nbconvert_exporter": "python",
   "pygments_lexer": "ipython3",
   "version": "3.12.2"
  }
 },
 "nbformat": 4,
 "nbformat_minor": 2
}
