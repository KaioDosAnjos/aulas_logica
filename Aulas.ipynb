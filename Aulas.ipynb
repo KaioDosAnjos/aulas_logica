{
 "cells": [
  {
   "cell_type": "markdown",
   "metadata": {},
   "source": [
    "Aula 16/02/2024 - Comandos de saída (print) / Tipos de dados (string, int, float ,bool) / Operações Aritméticas (+-*/%**)"
   ]
  },
  {
   "cell_type": "code",
   "execution_count": null,
   "metadata": {},
   "outputs": [],
   "source": [
    "#Este é o meu primeiro código\n",
    "#a função print serve para exibir na tela alguma mensagem\n",
    "print(\"Olá, mundo!!!\")\n",
    "\n",
    "print(\"Meu primeiro código em Python. Usando aspas duplas\")\n",
    "print('Meu primeiro código em Python. Usando aspas duplas')\n",
    "print('Para duplicar uma linha pressionei shift + alt + Seta Baixo')\n",
    "\n",
    "print(123)  #Estou exibindo um número interiro, por isso, não preciso da \"\"\n",
    "print(70.5) #Número float \n",
    "print(True) #Campo lógico (Verdadeiro ou falso) (True ou False)\n",
    "print(\"Sesi\") #Tipo string\n",
    "\n",
    "#Somando 2 números inteiros (o sinal de + para 2 números realiza a SOMA)\n",
    "print(8 + 6)\n",
    "#Porem se forem 2 strings (o sinal de + realiza a CONCATENAÇÃO)\n",
    "print('8'+'6')\n",
    "\n",
    "#Posso imprimir várias informações ao mesmo tempo separando-as por ,\n",
    "print('string', 10, 70.5, False)\n",
    "\n",
    "print( 10 + 50 ) # + é o operador de SOMA (número inteiro ou decimal)\n",
    "print( 67 - 13 ) # - é o operador de SUBTRAÇÃO (n° inteiro ou decimal)\n",
    "print( 4214328 * 312321 ) # * é o operador de MULTIPLICAÇÃO\n",
    "print( 4827 / 3 ) # / é ooperador de DIVISÃO\n",
    "print( 31 % 2 ) # % é o operador do resto da divisão(MÓDULO)\n",
    "print( 3 ** 3 ) # ** é  o operador de expoenciação 3³\n",
    "\n",
    "print( (8 + 6) / 2) # O Parênteses define a maior ordem de precedência"
   ]
  },
  {
   "cell_type": "markdown",
   "metadata": {},
   "source": [
    "Aula 22/02/2024- Comandos de entrada (input) / Variáves / Pseudocódigo"
   ]
  },
  {
   "cell_type": "code",
   "execution_count": null,
   "metadata": {},
   "outputs": [],
   "source": [
    "#Declarando minha variável \n",
    "#lemos da seguinte forma:\n",
    "#variavel curso recebe(=) a string \"Desenvolvimento de Sistemas\"\n",
    "#Receba/Armazene o texto Desenvolvimento de Sistemas\n",
    "curso = \"Desenvolvimento de Sistemas\"\n",
    "#Exiba o valor armazenado \n",
    "print(\"curso\")  #Para imprimir uma variavel não se coloca entra \" \"\n",
    "print(curso)    #Jeito correte de utilizar uma variavel\n",
    "print(\"curso\", curso)\n",
    "\n",
    "#Criando e atribuindo uma variavel \n",
    "idade = 15\n",
    "temperatura = 23.5\n",
    "nome = \"Kaio\"\n",
    "#Exiba o valor das 3 variaveis\n",
    "print(\"Olá\", nome, \",  você tem\", idade, \"anos,\", \"hoje está fazendo\", temperatura, \"°C\")\n",
    "print(f'Olá {nome}, você tem {idade}anos, hoje está fazendo {temperatura} °C')\n",
    "\n",
    "#Declarando variaveis lógicas, recebe apenas True ou False \n",
    "chovendo = False \n",
    "dia = True\n",
    "\n",
    "# Nesta linha abaixo ocorrerá um erro pois não existe um variavel com o \n",
    "# nome salario, então não consegue encontrar nada para exibir\n",
    "# NameError: name 'salario' is not defined\n",
    "#print(\"Salario\", salario)\n",
    "\n",
    "\n",
    "#Declarando um constante, deferentemente da variavel que posso alterar o valor\n",
    "# na constante não é permtido, declaramos com o nome todo em maiusculo\n",
    "PI = 3.1415\n",
    "\n",
    "#Passo 1: Receber o nome da pessoa\n",
    "#No int input('Qual é o seu nome?')\n",
    "#Passo 2: Receber a idade da pessoa\n",
    "#Posso converter essa string recebida do tipo inteiro\n",
    "idade = int (input('Qual a sua idade'))\n",
    "#Passo 3: Receber o peso da pessoa\n",
    "#Posso converter essa string recebida do tipo float\n",
    "peso = float(input('Qual o seu peso'))\n",
    "#Passo 4: Exibir o nome, a idade e o peso\n",
    "print(f'Seu nome é {nome}, você tem {idade} anos e pesa {peso}kg')\n",
    "\n",
    "#Exibindo os tipos das variaveis \n",
    "#tudo que recebemos do input é do tipo string\n",
    "print(type(nome), type(idade), type(peso))\n",
    "\n"
   ]
  },
  {
   "cell_type": "markdown",
   "metadata": {},
   "source": [
    "23/02/2024 - Operações com variáveis "
   ]
  },
  {
   "cell_type": "code",
   "execution_count": null,
   "metadata": {},
   "outputs": [],
   "source": [
    "#Receber o primeiro número \n",
    "numero1 =  float (input('Digite o primeiro número'))\n",
    "#Receber o segundo número  \n",
    "numero2 = float (input('Dgite o segundo número'))\n",
    "#Receber o terceiro número\n",
    "numero3 = float(input('Digite o terceiro númemero'))\n",
    "#Soma o primeiro número + o segundo número + o terceiro número\n",
    "soma = numero1 + numero2 + numero3\n",
    "#Exibir o resultado\n",
    "print(type(soma))\n",
    "print(soma )\n",
    "\n"
   ]
  },
  {
   "cell_type": "code",
   "execution_count": null,
   "metadata": {},
   "outputs": [],
   "source": [
    "numero1 = int (input('Digite o primeiro'))\n",
    "numero2 = int (input('Digite o segundo número'))\n",
    "numero3 = int (input ('Digite o terceiro número'))\n",
    "multiplicacao = numero1 * numero2 * numero3\n",
    "print (type(multiplicacao))\n",
    "print(multiplicacao)"
   ]
  },
  {
   "cell_type": "code",
   "execution_count": null,
   "metadata": {},
   "outputs": [],
   "source": [
    "#Passo 1: Receber o preço do celular = int (input('Digite o primeiro'))\n",
    "valor = float(input('Qual o valor do celular'))\n",
    "#Passo 2: Receber o valor do desconto\n",
    "desconto = float(input('Qual o valor do desconto'))\n",
    "#Passo 3: Calcular o novo valor do celular \n",
    "valor = valor - desconto \n",
    "print(valor)\n",
    "print(f'Você obteve R$ {desconto}, e pagou {valor} R$')"
   ]
  },
  {
   "cell_type": "code",
   "execution_count": null,
   "metadata": {},
   "outputs": [],
   "source": [
    "numero = 4 / 2\n",
    "numero = numero ** 2\n",
    "print (numero)\n",
    "numero = numero * (50 - 20)\n",
    "print (numero)\n",
    "print (f'O valor final é {numero}')"
   ]
  },
  {
   "cell_type": "code",
   "execution_count": null,
   "metadata": {},
   "outputs": [],
   "source": [
    "horasTrabalhadas = 8\n",
    "Dias = 15\n",
    "valorHora = 100\n",
    "valorProjeto = horasTrabalhadas * Dias * valorHora\n",
    "print(valorProjeto)\n",
    "print(f'Você deve cobrar R$ {valorProjeto}')\n",
    "\n"
   ]
  },
  {
   "cell_type": "markdown",
   "metadata": {},
   "source": [
    "29/02/2024 - Operadores relacionais e estruturado  condicional "
   ]
  },
  {
   "cell_type": "code",
   "execution_count": 5,
   "metadata": {},
   "outputs": [
    {
     "name": "stdout",
     "output_type": "stream",
     "text": [
      "a > b ? False \n",
      "a == b ? False\n",
      "a != b ? True\n",
      "a > 2 ? False\n",
      "a >= 2 ? True\n"
     ]
    }
   ],
   "source": [
    "a = 2\n",
    "b = 3\n",
    "print(f'a > b ? {a > b} ')\n",
    "print(f'a == b ? {a == b}')\n",
    "print(f'a != b ? {a != b}')\n",
    "print(f'a > 2 ? {a > 2}')\n",
    "print(f'a >= 2 ? {a >=2}')"
   ]
  },
  {
   "cell_type": "code",
   "execution_count": 12,
   "metadata": {},
   "outputs": [
    {
     "name": "stdout",
     "output_type": "stream",
     "text": [
      "Posso entrar\n",
      "fim\n"
     ]
    }
   ],
   "source": [
    "tenho_ingresso = True\n",
    "if tenho_ingresso == True:\n",
    "    print('Posso entrar')\n",
    "print('fim')"
   ]
  },
  {
   "cell_type": "code",
   "execution_count": 15,
   "metadata": {},
   "outputs": [
    {
     "name": "stdout",
     "output_type": "stream",
     "text": [
      "Maior idade\n"
     ]
    }
   ],
   "source": [
    "#Passo 1: Receber o valor da idade \n",
    "idade = int(input('Qual sua idade'))\n",
    "#Passo 2: Verificar se é maior ou igual a 18 entao \n",
    "if idade >= 18 :\n",
    "#Passo 3: Se for Exibir \"Maior Idade\"\n",
    "    print(\"Maior idade\")"
   ]
  },
  {
   "cell_type": "code",
   "execution_count": 4,
   "metadata": {},
   "outputs": [
    {
     "name": "stdout",
     "output_type": "stream",
     "text": [
      "Posso entrar\n",
      "fim\n"
     ]
    }
   ],
   "source": [
    "tenho_ingresso = True\n",
    "if tenho_ingresso == True:\n",
    "    print('Posso entrar')\n",
    "else:\n",
    "    print('Vá comprar')\n",
    "\n",
    "print('fim')"
   ]
  },
  {
   "cell_type": "code",
   "execution_count": 1,
   "metadata": {},
   "outputs": [
    {
     "name": "stdout",
     "output_type": "stream",
     "text": [
      "Maior idade\n"
     ]
    }
   ],
   "source": [
    "idade = int(input('Qual sua idade'))\n",
    "if idade >= 18 :\n",
    "\n",
    "     print(\"Maior idade\")\n",
    "\n"
   ]
  },
  {
   "cell_type": "markdown",
   "metadata": {},
   "source": [
    "01/03/2024 - Operadores Lógicas e Estrutura condicional"
   ]
  },
  {
   "cell_type": "code",
   "execution_count": null,
   "metadata": {},
   "outputs": [],
   "source": [
    "a = 2\n",
    "b = 3\n",
    "c = 5\n",
    "#       False     e    False\n",
    "print( ( a > 2 ) and ( b < 2) ) # False\n",
    "#       False     ou   False\n",
    "print( ( a > 2 )  or ( b < 2) ) # False \n",
    "#       False     ou    True\n",
    "print( ( a > 2 )  or ( b < 5) ) # False\n",
    "\n",
    "idade = 18 \n",
    "#           False         True\n",
    "print(idade > 18 or idade == 18) # True\n",
    "#          idade >= 18"
   ]
  },
  {
   "cell_type": "code",
   "execution_count": null,
   "metadata": {},
   "outputs": [],
   "source": [
    "altura = float(input('Digite sua altura (em m):'))\n",
    "peso = float(input('Digite seu peso em kg'))\n",
    "imc = peso / (altura**2)\n",
    "print(f'Seu IMC é {imc: .1f}')\n",
    "if  imc <18.5 :\n",
    "    print ('Abaixo do peso ideal!') \n",
    "elif imc >= 18.6 and imc <= 24.9 :\n",
    "    print('Peso ideal !')\n",
    "elif imc >= 25 and imc <= 29.9:\n",
    "    print('Sobre Peso')\n",
    "else:\n",
    "    print('Obesidade')"
   ]
  },
  {
   "cell_type": "code",
   "execution_count": 6,
   "metadata": {},
   "outputs": [
    {
     "name": "stdout",
     "output_type": "stream",
     "text": [
      "Tiangulo Escaleno\n"
     ]
    }
   ],
   "source": [
    "lado1 = int(input('Digite lado1:'))\n",
    "lado2 = int(input('Digite lado2:'))\n",
    "lado3 = int(input('Digite lado3:'))\n",
    "if (lado1==lado2) and (lado2==lado3):\n",
    "    print ('Triangulo Equilatero')\n",
    "elif(lado1 != lado2) and (lado2 != lado3) and (lado1 != lado3):\n",
    "    print('Tiangulo Escaleno')\n",
    "else:\n",
    "    print('Triangulo Isósceles')"
   ]
  },
  {
   "cell_type": "code",
   "execution_count": 17,
   "metadata": {},
   "outputs": [
    {
     "name": "stdout",
     "output_type": "stream",
     "text": [
      "a letra 5 é um numero\n"
     ]
    }
   ],
   "source": [
    "letra = input(\"Digite uma letra\")\n",
    "if letra == 'a' or letra== 'e' or letra== 'i' or letra== 'o' or letra== 'u' :\n",
    "    print(f'a letra {letra} é um vogal')\n",
    "elif letra == '1' or letra == '2' or letra == '3' or letra =='4'or letra == '5' or letra == '6 'or letra == '7' or letra == '8' or letra == '9':\n",
    "    print(f'a letra {letra} é um numero')\n",
    "else:\n",
    "    print(f'a letra {letra} não é uma vogal')"
   ]
  },
  {
   "cell_type": "markdown",
   "metadata": {},
   "source": [
    "07/03/2024 - Estrutura  condicional aninhada / match case"
   ]
  },
  {
   "cell_type": "code",
   "execution_count": 9,
   "metadata": {},
   "outputs": [
    {
     "name": "stdout",
     "output_type": "stream",
     "text": [
      "Voce é obrigado a votar\n",
      "FIM\n"
     ]
    }
   ],
   "source": [
    "idade = int(input('Digite sua idade:'))\n",
    "if idade >= 18 and idade <= 70:\n",
    "    print('Voce é obrigado a votar')\n",
    "else:\n",
    "    if idade < 16:\n",
    "        print('Voce não pode votar')\n",
    "    else:\n",
    "        if idade >= 16 or idade > 70:\n",
    "            print('Seu voto é facultativo')\n",
    "print('FIM')\n",
    "        \n",
    "        \n"
   ]
  },
  {
   "cell_type": "code",
   "execution_count": null,
   "metadata": {},
   "outputs": [],
   "source": [
    "nr1 = int(input('Digite um numero'))\n",
    "nr2 = int(input('Digite um numero'))\n",
    "operador = input('Digite o operador + - * / **')\n",
    "match operador :\n",
    "    case '+':   # if op == '+' :\n",
    "        print(nr1+nr2)\n",
    "    case '-':   # if op == '-' :\n",
    "        print(nr1-nr2)\n",
    "    case '*':   # if op == '*' :\n",
    "        print(nr1*nr2)\n",
    "    case '/':   # if op == '/' :\n",
    "        print(nr1/nr2)\n",
    "    case '**':  # if op == '**' :\n",
    "        print(nr1**nr2)\n",
    "    case _ :\n",
    "        print('Operador digitado Invalido')\n",
    "    \n",
    "\n"
   ]
  },
  {
   "cell_type": "markdown",
   "metadata": {},
   "source": [
    "08/03/2024 - Laço de repetição - While"
   ]
  },
  {
   "cell_type": "code",
   "execution_count": null,
   "metadata": {},
   "outputs": [],
   "source": [
    "x = 1\n",
    "while x <= 10 :\n",
    "    print('Eu vou prestar atenção na aula', x)\n",
    "    x = x + 1\n",
    "print('FIM')"
   ]
  },
  {
   "cell_type": "code",
   "execution_count": 106,
   "metadata": {},
   "outputs": [
    {
     "name": "stdout",
     "output_type": "stream",
     "text": [
      "10\n",
      "9\n",
      "8\n"
     ]
    },
    {
     "ename": "KeyboardInterrupt",
     "evalue": "",
     "output_type": "error",
     "traceback": [
      "\u001b[1;31m---------------------------------------------------------------------------\u001b[0m",
      "\u001b[1;31mKeyboardInterrupt\u001b[0m                         Traceback (most recent call last)",
      "Cell \u001b[1;32mIn[106], line 5\u001b[0m\n\u001b[0;32m      3\u001b[0m \u001b[38;5;28;01mwhile\u001b[39;00m x \u001b[38;5;241m>\u001b[39m\u001b[38;5;241m=\u001b[39m \u001b[38;5;241m0\u001b[39m :\n\u001b[0;32m      4\u001b[0m     \u001b[38;5;28mprint\u001b[39m(x)\n\u001b[1;32m----> 5\u001b[0m     \u001b[43mtime\u001b[49m\u001b[38;5;241;43m.\u001b[39;49m\u001b[43msleep\u001b[49m\u001b[43m(\u001b[49m\u001b[38;5;241;43m1\u001b[39;49m\u001b[43m)\u001b[49m   \u001b[38;5;66;03m#Dando uma pausa de 1s na execução\u001b[39;00m\n\u001b[0;32m      6\u001b[0m     x \u001b[38;5;241m=\u001b[39m x \u001b[38;5;241m-\u001b[39m \u001b[38;5;241m1\u001b[39m\n\u001b[0;32m      7\u001b[0m \u001b[38;5;28mprint\u001b[39m(\u001b[38;5;124m'\u001b[39m\u001b[38;5;124mFeliz ano novo 🎆\u001b[39m\u001b[38;5;124m'\u001b[39m)\n",
      "\u001b[1;31mKeyboardInterrupt\u001b[0m: "
     ]
    }
   ],
   "source": [
    "import time #importando uma bibilioteca de tempo\n",
    "x = 10\n",
    "while x >= 0 :\n",
    "    print(x)\n",
    "    time.sleep(1)   #Dando uma pausa de 1s na execução\n",
    "    x = x - 1\n",
    "print('Feliz ano novo 🎆')"
   ]
  },
  {
   "cell_type": "code",
   "execution_count": null,
   "metadata": {},
   "outputs": [],
   "source": [
    "texto = ''\n",
    "while texto != 'sair' :\n",
    "    texto = input('Digite seu nome(\"sair\" para terminar)')\n",
    "    print(f'Seja bem vindo, {texto}')"
   ]
  },
  {
   "cell_type": "code",
   "execution_count": null,
   "metadata": {},
   "outputs": [],
   "source": [
    "senha_senai = '12345'\n",
    "nr_tentativas = 0\n",
    "while True :\n",
    "    senha = input('Qual é a senha 🤫? \"Desisto\" para sair 🔒')\n",
    "    if  senha == senha_senai :\n",
    "        print('Voce hakeou a Rede')\n",
    "        break\n",
    "    elif senha == 'Desisto' :\n",
    "        break \n",
    "    else :\n",
    "        nr_tentativas = nr_tentativas + 1\n",
    "        if nr_tentativas == 3 :\n",
    "            print('Voce está preso tentando hackear a rede')\n",
    "            break\n",
    "print('FIM')\n",
    "    \n"
   ]
  },
  {
   "cell_type": "markdown",
   "metadata": {},
   "source": [
    "21/03/2024 - Revisão de While"
   ]
  },
  {
   "cell_type": "code",
   "execution_count": 15,
   "metadata": {},
   "outputs": [
    {
     "name": "stdout",
     "output_type": "stream",
     "text": [
      "FIM\n"
     ]
    }
   ],
   "source": [
    "resp = 'S'\n",
    "while resp == 'S' :\n",
    "    resp = input('Deseja continuar? [S/N]')\n",
    "\n",
    "print ('FIM')"
   ]
  },
  {
   "cell_type": "code",
   "execution_count": 20,
   "metadata": {},
   "outputs": [
    {
     "name": "stdout",
     "output_type": "stream",
     "text": [
      "Valor Total R$ 1200.00 Quantidade de produtos 3\n"
     ]
    }
   ],
   "source": [
    "soma = 0\n",
    "quantidade = 0\n",
    "while True :\n",
    "    valor = float(input('Digite o valor do produto [-1 para encerrar]'))\n",
    "    if valor == -1 :\n",
    "        break\n",
    "    soma = valor + soma \n",
    "    quantidade = quantidade + 1\n",
    "\n",
    "print (f'Valor Total R$ {soma:.2f} Quantidade de produtos {quantidade}')"
   ]
  },
  {
   "cell_type": "code",
   "execution_count": 105,
   "metadata": {},
   "outputs": [
    {
     "name": "stdout",
     "output_type": "stream",
     "text": [
      "-=-=-=-=-=-=-=-=-=-=-=-=-=-=-=-=-=-=-=-\n",
      "   🤔   JOGO DA ADIVINHAÇÃO   🤔  \n",
      "-=-=-=-=-=-=-=-=-=-=-=-=-=-=-=-=-=-=-=-\n",
      "Você chutou 1. Tente um numero 👆\n",
      "Você chutou 5. Tente um numero 👆\n",
      "Você chutou 87. Tente um número 👇\n",
      "Você chutou 65. Tente um número 👇\n",
      "Você chutou 4. Tente um numero 👆\n",
      "Você chutou 35. Tente um número 👇\n",
      "Você chutou 5. Tente um numero 👆\n",
      "Você chutou 30. Tente um número 👇\n",
      "Você chutou 29. Tente um número 👇\n",
      "Você chutou 27. Tente um número 👇\n",
      "Você chutou 21. Tente um numero 👆\n",
      "Você chutou 23. Tente um numero 👆\n",
      "Você chutou 24. Parebéns você acertou 👏 👏 👏 \n",
      "FIM\n"
     ]
    }
   ],
   "source": [
    "#Importando a biblioteca de números aleatorios\n",
    "import random\n",
    "#Sorteando de 1 a 100\n",
    "nrSorteado = random.randint(1,100)\n",
    "\n",
    "print('-=-=-=-=-=-=-=-=-=-=-=-=-=-=-=-=-=-=-=-')\n",
    "print('   🤔   JOGO DA ADIVINHAÇÃO   🤔  ')\n",
    "print('-=-=-=-=-=-=-=-=-=-=-=-=-=-=-=-=-=-=-=-')\n",
    "\n",
    "acertou = False \n",
    "while acertou == False :\n",
    "    chute = int(input('🕵️‍♀️ Digite um número entre 1 e 100:'))\n",
    "    if chute == nrSorteado :\n",
    "        print (f'Você chutou {chute}. Parebéns você acertou 👏 👏 👏 ')\n",
    "        acertou = True \n",
    "    elif chute > nrSorteado :\n",
    "        print (f'Você chutou {chute}. Tente um número 👇')\n",
    "    else :\n",
    "        print (f'Você chutou {chute}. Tente um numero 👆')\n",
    "\n",
    "print('FIM')"
   ]
  },
  {
   "cell_type": "markdown",
   "metadata": {},
   "source": [
    "22/03/2024 - For"
   ]
  },
  {
   "cell_type": "code",
   "execution_count": 9,
   "metadata": {},
   "outputs": [
    {
     "name": "stdout",
     "output_type": "stream",
     "text": [
      "1\n",
      "2\n",
      "3\n",
      "4\n",
      "5\n",
      "6\n",
      "7\n",
      "8\n",
      "9\n",
      "10\n"
     ]
    }
   ],
   "source": [
    "# x = 1\n",
    "# while x <=10 :\n",
    "#     print(x)\n",
    "#     x = x + 1\n",
    "# print('FIM')\n",
    "\n",
    "for x in range(10) :\n",
    "    x += 1\n",
    "    print(x)"
   ]
  },
  {
   "cell_type": "code",
   "execution_count": null,
   "metadata": {},
   "outputs": [],
   "source": [
    "print ('Entregando os notebooks')\n",
    "for nr in range (13) :\n",
    "    nr = nr + 1\n",
    "    nome = input(f'Quem é o n° {nr}?')\n",
    "    presente = input(f'O(a) {nome} veio para a escola? [S/N]')\n",
    "    if presente == 'S' :\n",
    "        print(f'Pegar o notebook {nr}')\n",
    "        print(f'Pegar o Mouse {nr}')\n",
    "        print(f'Levar o notebook até o(a) {nome}')\n",
    "    else :\n",
    "        print(f'Não pegar o notebook {nr}')\n",
    "\n",
    "print('Começar a aula')        \n"
   ]
  },
  {
   "cell_type": "code",
   "execution_count": 14,
   "metadata": {},
   "outputs": [
    {
     "name": "stdout",
     "output_type": "stream",
     "text": [
      "5\n",
      "6\n",
      "7\n",
      "8\n",
      "9\n"
     ]
    }
   ],
   "source": [
    "for x in range (5,10) :\n",
    "    print(x)\n",
    "\n",
    "print('FIM')"
   ]
  },
  {
   "cell_type": "code",
   "execution_count": null,
   "metadata": {},
   "outputs": [],
   "source": [
    "for x in range (5, 30, 4) :\n",
    "    print (x)"
   ]
  },
  {
   "cell_type": "code",
   "execution_count": 32,
   "metadata": {},
   "outputs": [
    {
     "name": "stdout",
     "output_type": "stream",
     "text": [
      "2 x 0 = 0\n",
      "2 x 1 = 2\n",
      "2 x 2 = 4\n",
      "2 x 3 = 6\n",
      "2 x 4 = 8\n",
      "2 x 5 = 10\n",
      "2 x 6 = 12\n",
      "2 x 7 = 14\n",
      "2 x 8 = 16\n",
      "2 x 9 = 18\n",
      "2 x 10 = 20\n"
     ]
    }
   ],
   "source": [
    "n = int(input('Digite o nr:'))\n",
    "for x in range (11) :\n",
    "    print(f'{nr} x {x} = {nr * x}') "
   ]
  },
  {
   "cell_type": "code",
   "execution_count": null,
   "metadata": {},
   "outputs": [],
   "source": [
    "for letra in 'SESI/SENAI' :\n",
    "    print(letra)\n",
    "print('FIM')"
   ]
  },
  {
   "cell_type": "code",
   "execution_count": 34,
   "metadata": {},
   "outputs": [
    {
     "name": "stdout",
     "output_type": "stream",
     "text": [
      "0\n",
      "1\n",
      "2\n",
      "3\n",
      "4\n",
      "5\n",
      "6\n",
      "7\n",
      "8\n",
      "9\n",
      "10\n"
     ]
    }
   ],
   "source": [
    "for x in range (100) :\n",
    "    if x == 11 :\n",
    "        break\n",
    "    print(x)"
   ]
  },
  {
   "cell_type": "markdown",
   "metadata": {},
   "source": [
    " Aula 04/04/2024 - Iteração em listas\n",
    " "
   ]
  },
  {
   "cell_type": "code",
   "execution_count": 39,
   "metadata": {},
   "outputs": [
    {
     "name": "stdout",
     "output_type": "stream",
     "text": [
      "3 é um numero\n"
     ]
    }
   ],
   "source": [
    "Numero = ['0','1','2','3','4','5','6','7','8','9']\n",
    "# Crando lista de consoantes\n",
    "consoantes = ['b','c','d','f','g','h','j','k','l','m','n','p','q','r','s','t','v','w','x','y','z']\n",
    "#Criando uma lista de vogais  \n",
    "vogais = ['a','e','i','o','u']\n",
    "#recebendo um caractere digitado pelo usuário \n",
    "letra = input('Informe um caractere')\n",
    "# o método .lower() deixa todas as letras digitadas como minúsculo\n",
    "# o método .upper() deixa todas as letras digitadas como maiúsculo\n",
    "# lemos da seguinte forma:\n",
    "# SE a letra em MINUSCULA ESTIVER na lista de vogais ENTÃO \n",
    "if letra.lower() in vogais :\n",
    "    print(f'{letra} é uma vogal')\n",
    "elif letra.lower in consoantes :\n",
    "    print(f'{letra} é uma consoante')\n",
    "elif letra in Numero :\n",
    "    print(f'{letra} é um numero')\n",
    "else :\n",
    "    print(f'{letra}  é uma letra') \n",
    "\n",
    "\n",
    "       "
   ]
  },
  {
   "cell_type": "code",
   "execution_count": 43,
   "metadata": {},
   "outputs": [
    {
     "name": "stdout",
     "output_type": "stream",
     "text": [
      "Pelé\n",
      "Maradona\n",
      "Messi\n",
      "Cristiano Ronaldo\n"
     ]
    }
   ],
   "source": [
    "listaNomes = ['Pelé','Maradona','Messi','Cristiano Ronaldo']\n",
    "for nome in listaNomes :\n",
    "    print(nome)"
   ]
  },
  {
   "cell_type": "code",
   "execution_count": 53,
   "metadata": {},
   "outputs": [
    {
     "name": "stdout",
     "output_type": "stream",
     "text": [
      "26\n",
      "26\n"
     ]
    }
   ],
   "source": [
    "listaNrs = [4,6,2,5,9]\n",
    "soma = 0\n",
    "for nr in listaNrs :\n",
    "    soma = soma + nr\n",
    "    \n",
    "print(soma)\n",
    "\n",
    "#Essa função que escrevemos faz a mesma coisa que \n",
    "soma = sum(listaNrs)\n",
    "print(soma)\n"
   ]
  },
  {
   "cell_type": "code",
   "execution_count": 54,
   "metadata": {},
   "outputs": [
    {
     "name": "stdout",
     "output_type": "stream",
     "text": [
      "A fruta Maçã está na posição 0\n",
      "A fruta Banana está na posição 1\n",
      "A fruta Abacaxi está na posição 2\n",
      "A fruta Uva está na posição 3\n"
     ]
    }
   ],
   "source": [
    "listaFrutas = ['Maçã','Banana','Abacaxi','Uva']\n",
    "for pos, fruta in enumerate(listaFrutas) :\n",
    "    print(f'A fruta {fruta} está na posição {pos}')"
   ]
  },
  {
   "cell_type": "code",
   "execution_count": 56,
   "metadata": {},
   "outputs": [
    {
     "name": "stdout",
     "output_type": "stream",
     "text": [
      "Celular\n",
      "Notebook\n",
      "TV\n",
      "Tablet\n",
      "Headset\n"
     ]
    }
   ],
   "source": [
    "produto = 'Celular,Notebook,TV,Tablet,Headset'\n",
    "listaProdutos = produto.split(',')\n",
    "for produto in listaProdutos :\n",
    "    print(produto)"
   ]
  },
  {
   "cell_type": "code",
   "execution_count": 13,
   "metadata": {},
   "outputs": [
    {
     "name": "stdout",
     "output_type": "stream",
     "text": [
      "S\n",
      "E\n",
      "N\n",
      "A\n",
      "I\n"
     ]
    }
   ],
   "source": [
    "palavra = 'SENAI'\n",
    "for letra in palavra :\n",
    "    print(letra)\n",
    "\n"
   ]
  },
  {
   "cell_type": "code",
   "execution_count": null,
   "metadata": {},
   "outputs": [],
   "source": [
    "#Criando uma lista vazia \n",
    "listaComidas = []\n",
    "#Laço de repetição sem um nr de execução definida \n",
    "while True :\n",
    "    # Recebendo informação do usuario e armazenamento em uma vareavel\n",
    "    comida = input('Digite uma comida que você mais gosta ')\n",
    "    # Inserindo o valor da vareavel no final da nossa lista \n",
    "    listaComidas.append(comida)\n",
    "    # Obetendo a resposta do usuariose deseja continuar\n",
    "    resp = input('Deseja continuar? [S/N]')\n",
    "    # Verificando condição da resposta dele, se for N ou n sair do laço\n",
    "    if  resp in 'Nn' :\n",
    "        # Parando o laço de repetição while\n",
    "        break\n",
    "\n",
    "# Fora do while - apos finalizar sua excutação e encontrar break\n",
    "# Laçode repetição para exibir seus itens e suas posições       \n",
    "for pos, comida in enumerate(listaComidas) :\n",
    "    # Exibindo as variaveis de cada itens da lista \n",
    "    print(f'{pos+1}° {comida}')\n",
    "\n",
    "print(listaComidas[0])\n",
    "   "
   ]
  },
  {
   "cell_type": "markdown",
   "metadata": {},
   "source": []
  },
  {
   "cell_type": "markdown",
   "metadata": {},
   "source": [
    "11/04/2024 - Funções"
   ]
  },
  {
   "cell_type": "code",
   "execution_count": 1,
   "metadata": {},
   "outputs": [
    {
     "name": "stdout",
     "output_type": "stream",
     "text": [
      "--------------------\n",
      "SESI / SENAI\n",
      "--------------------\n"
     ]
    }
   ],
   "source": [
    "print( '-' * 20)\n",
    "print('SESI / SENAI')\n",
    "print( '-' *  20)"
   ]
  },
  {
   "cell_type": "code",
   "execution_count": 11,
   "metadata": {},
   "outputs": [
    {
     "name": "stdout",
     "output_type": "stream",
     "text": [
      "----------------------------------------------------------------------------------------------------\n",
      "SESI / SENAI\n",
      "----------------------------------------------------------------------------------------------------\n"
     ]
    }
   ],
   "source": [
    "def Linha () :\n",
    "    print('-' * 100)\n",
    "\n",
    "Linha()\n",
    "print('SESI / SENAI')\n",
    "Linha()"
   ]
  },
  {
   "cell_type": "code",
   "execution_count": 13,
   "metadata": {},
   "outputs": [
    {
     "name": "stdout",
     "output_type": "stream",
     "text": [
      "--------------------\n",
      " SESI / SENAI\n",
      "--------------------\n",
      "--------------------\n",
      " SESI / SENAI\n",
      "--------------------\n",
      "--------------------\n",
      " SESI / SENAI\n",
      "--------------------\n"
     ]
    }
   ],
   "source": [
    "def Linha():\n",
    "    print('-' * 20)\n",
    "\n",
    "def Cabecalho() :\n",
    "    print('-' * 20)\n",
    "    print(' SESI / SENAI')\n",
    "    print('-' * 20)\n",
    "\n",
    "Cabecalho()\n",
    "Cabecalho()\n",
    "Cabecalho()\n"
   ]
  },
  {
   "cell_type": "code",
   "execution_count": 24,
   "metadata": {},
   "outputs": [
    {
     "name": "stdout",
     "output_type": "stream",
     "text": [
      "tenha um bom dia Kaio\n",
      "tenha um bom dia Alexrande\n",
      "tenha um bom dia Pelé\n"
     ]
    }
   ],
   "source": [
    "def Saldacao() :\n",
    "    Nome = input('Digite o nome')\n",
    "    print(f'tenha um bom dia {Nome}')\n",
    "\n",
    "Saldacao()\n",
    "Saldacao()\n",
    "Saldacao()\n",
    "\n",
    "\n",
    "    "
   ]
  },
  {
   "cell_type": "code",
   "execution_count": 26,
   "metadata": {},
   "outputs": [
    {
     "name": "stdout",
     "output_type": "stream",
     "text": [
      "tenha um bom dia Kaio\n",
      "tenha um bom dia Alexandre\n",
      "tenha um bom dia Pelé\n"
     ]
    }
   ],
   "source": [
    "def Saudacao () :\n",
    "    nome = input('Digite o seu nome')\n",
    "    print(f'tenha um bom dia {nome}')\n",
    "\n",
    "for n in range(3) :\n",
    "    Saudacao()"
   ]
  },
  {
   "cell_type": "code",
   "execution_count": 32,
   "metadata": {},
   "outputs": [
    {
     "name": "stdout",
     "output_type": "stream",
     "text": [
      "--------------------\n",
      "SENAI\n",
      "--------------------\n",
      "--------------------\n",
      "KAIO\n",
      "--------------------\n",
      "--------------------\n",
      "SESI\n",
      "--------------------\n",
      "--------------------\n",
      "ESCOLA\n",
      "--------------------\n"
     ]
    }
   ],
   "source": [
    "def Cabecalho(texto) :\n",
    "    Linha()\n",
    "    print(texto)\n",
    "    Linha()\n",
    "\n",
    "\n",
    "Cabecalho('SENAI')\n",
    "Cabecalho('KAIO')\n",
    "Cabecalho('SESI')\n",
    "Cabecalho('ESCOLA')\n",
    "    "
   ]
  },
  {
   "cell_type": "code",
   "execution_count": 35,
   "metadata": {},
   "outputs": [
    {
     "name": "stdout",
     "output_type": "stream",
     "text": [
      "A soma de 10 + 5 é 15 \n",
      "A soma de 8888888888888 + 999999999999 é 9888888888887 \n",
      "A soma de 99 + 80 é 179 \n",
      "A soma de 10.5 + 7.5 é 18.0 \n"
     ]
    }
   ],
   "source": [
    "def Soma (n1, n2) :\n",
    "    res = n1 + n2\n",
    "    print(f'A soma de {n1} + {n2} é {res} ')\n",
    "\n",
    "Soma(10, 5)\n",
    "Soma( 8888888888888, 999999999999)\n",
    "Soma(99, 80)\n",
    "Soma(10.5, 7.5)"
   ]
  },
  {
   "cell_type": "code",
   "execution_count": 42,
   "metadata": {},
   "outputs": [
    {
     "name": "stdout",
     "output_type": "stream",
     "text": [
      "O numero 8 é par\n",
      "O numero 7 é impar\n"
     ]
    }
   ],
   "source": [
    "def ParImpar (nr) :\n",
    "    if nr % 2 == 0 :\n",
    "        print(f'O numero {nr} é par')\n",
    "    else:\n",
    "        print(f'O numero {nr} é impar') \n",
    "\n",
    "ParImpar(8)\n",
    "ParImpar(7)\n",
    "\n",
    "    \n",
    "    \n",
    "    "
   ]
  },
  {
   "cell_type": "code",
   "execution_count": 44,
   "metadata": {},
   "outputs": [
    {
     "name": "stdout",
     "output_type": "stream",
     "text": [
      "9.0\n",
      "6.0\n"
     ]
    }
   ],
   "source": [
    "def Media(n1, n2) :\n",
    "    res = (n1 + n2) / 2 \n",
    "    return(res)\n",
    "# A variacel resultado_media recebe o retorno da função Media\n",
    "resultado_media = Media(10, 8) \n",
    "print(resultado_media)\n",
    "print(Media(10, 2))"
   ]
  },
  {
   "cell_type": "code",
   "execution_count": 53,
   "metadata": {},
   "outputs": [
    {
     "data": {
      "text/plain": [
       "'27/2/1989'"
      ]
     },
     "execution_count": 53,
     "metadata": {},
     "output_type": "execute_result"
    }
   ],
   "source": [
    "#JUPITER\n",
    "def FormatarData (dia, mes, ano) :\n",
    "    return (f'{dia}/{mes}/{ano}') \n",
    "\n",
    "FormatarData(25,12,1987)\n",
    "FormatarData(27,2,1989)   "
   ]
  },
  {
   "cell_type": "code",
   "execution_count": 54,
   "metadata": {},
   "outputs": [
    {
     "name": "stdout",
     "output_type": "stream",
     "text": [
      "25/12/1987\n",
      "27/2/1989\n"
     ]
    }
   ],
   "source": [
    "def FormatarData (dia, mes, ano) :\n",
    "    data = f'{dia}/{mes}/{ano}'\n",
    "    return(data)\n",
    "print (FormatarData (25, 12, 1987))\n",
    "print(FormatarData(27, 2, 1989))"
   ]
  },
  {
   "cell_type": "markdown",
   "metadata": {},
   "source": [
    "12/04/2024 - Escopo de variaveis (Variável local e global)"
   ]
  },
  {
   "cell_type": "code",
   "execution_count": 1,
   "metadata": {},
   "outputs": [
    {
     "name": "stdout",
     "output_type": "stream",
     "text": [
      "Valor ANTES da função SENAI\n",
      "Valor dentro da função SESI\n",
      "Valor DEPOIS da função SENAI\n"
     ]
    }
   ],
   "source": [
    "def NomeEscola() :\n",
    "    escola = 'SESI'\n",
    "    print (f'Valor dentro da função {escola}')\n",
    "\n",
    "escola = 'SENAI'\n",
    "print(f'Valor ANTES da função {escola}')\n",
    "NomeEscola()\n",
    "print(f'Valor DEPOIS da função {escola}')\n",
    "\n"
   ]
  },
  {
   "cell_type": "code",
   "execution_count": null,
   "metadata": {},
   "outputs": [],
   "source": []
  },
  {
   "cell_type": "code",
   "execution_count": 2,
   "metadata": {},
   "outputs": [
    {
     "name": "stdout",
     "output_type": "stream",
     "text": [
      "Valor ANTES da função SENAI\n",
      "Valor sentro da função SESI\n",
      "Valor DEPOIS da função SESI\n"
     ]
    }
   ],
   "source": [
    "def NomeEscola() :\n",
    "    #Caso eu queiro atualizar o conteudo da variavel escola \n",
    "    # preciso escrever que ela é a global\n",
    "    global escola\n",
    "    escola = 'SESI'  # Alterando o valor da variavel global \n",
    "    print(f'Valor sentro da função {escola}')\n",
    "\n",
    "escola = 'SENAI'\n",
    "print(f'Valor ANTES da função {escola}')\n",
    "NomeEscola()\n",
    "print(f'Valor DEPOIS da função {escola}')"
   ]
  },
  {
   "cell_type": "code",
   "execution_count": 4,
   "metadata": {},
   "outputs": [
    {
     "name": "stdout",
     "output_type": "stream",
     "text": [
      "fora da função 10\n",
      "Dentro da função 1\n",
      "fora da função 10\n"
     ]
    }
   ],
   "source": [
    "x = 10 # x é uma variavel global\n",
    "# Podemos acessar x fora de uma função tambem\n",
    "print('fora da função', x)\n",
    "\n",
    "\n",
    "def minhaFuncao() :\n",
    "    x = 0 # <- variável  local\n",
    "    x = x + 1\n",
    "    # Essa variável x está no escopo local\n",
    "    print('Dentro da função', x)\n",
    "\n",
    "minhaFuncao()\n",
    "print('fora da função', x)\n"
   ]
  },
  {
   "cell_type": "code",
   "execution_count": 7,
   "metadata": {},
   "outputs": [
    {
     "name": "stdout",
     "output_type": "stream",
     "text": [
      "fora da função 10\n",
      "Dentro da função 11\n",
      "fora da função 11\n"
     ]
    }
   ],
   "source": [
    "x = 10 # x é uma variavel global\n",
    "# Podemos acessar x fora de uma função tambem\n",
    "print('fora da função', x)\n",
    "\n",
    "\n",
    "def minhaFuncao() :\n",
    "    '''\n",
    "        Aqui posso escrever a descrição do que faz a minha função\n",
    "    '''\n",
    "    global x # Dizeno que usaremos a variavel x global\n",
    "    x = x + 1\n",
    "    print('Dentro da função', x)\n",
    "\n",
    "minhaFuncao()\n",
    "print('fora da função', x)\n"
   ]
  },
  {
   "cell_type": "code",
   "execution_count": null,
   "metadata": {},
   "outputs": [],
   "source": [
    "def minha_funcao() :\n",
    "    '''\n",
    "    \n",
    "    '''\n"
   ]
  }
 ],
 "metadata": {
  "kernelspec": {
   "display_name": "Python 3",
   "language": "python",
   "name": "python3"
  },
  "language_info": {
   "codemirror_mode": {
    "name": "ipython",
    "version": 3
   },
   "file_extension": ".py",
   "mimetype": "text/x-python",
   "name": "python",
   "nbconvert_exporter": "python",
   "pygments_lexer": "ipython3",
   "version": "3.12.3"
  }
 },
 "nbformat": 4,
 "nbformat_minor": 2
}
