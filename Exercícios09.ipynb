{
 "cells": [
  {
   "cell_type": "markdown",
   "metadata": {},
   "source": [
    "1.  Crie uma função sem parâmetros que exiba uma linha com 50 * , e uma mensagem de boas\n",
    "vindas,"
   ]
  },
  {
   "cell_type": "code",
   "execution_count": 13,
   "metadata": {},
   "outputs": [
    {
     "name": "stdout",
     "output_type": "stream",
     "text": [
      "--------------------------------------------------\n",
      "Seja bem-vindo\n",
      "--------------------------------------------------\n",
      "Seja bem-vindo\n",
      "--------------------------------------------------\n",
      "Seja bem-vindo\n"
     ]
    }
   ],
   "source": [
    "def linha() :\n",
    "    print('-' * 50)\n",
    "    print('Seja bem-vindo')\n",
    "\n",
    "\n",
    "\n",
    "linha()\n",
    "linha()\n",
    "linha()\n"
   ]
  },
  {
   "cell_type": "markdown",
   "metadata": {},
   "source": [
    "2. Crie uma função que contenha uma lista com as cores primárias e exiba cada cor em uma\n",
    "linha"
   ]
  },
  {
   "cell_type": "code",
   "execution_count": 15,
   "metadata": {},
   "outputs": [
    {
     "name": "stdout",
     "output_type": "stream",
     "text": [
      "Azul\n",
      "Vermelho\n",
      "Amarelo\n"
     ]
    }
   ],
   "source": [
    "def Cores():\n",
    "    CorPrimaria =['Azul','Vermelho','Amarelo']\n",
    "    for cores in CorPrimaria :\n",
    "        print(cores)\n",
    "Cores()\n",
    "\n",
    "    "
   ]
  },
  {
   "cell_type": "markdown",
   "metadata": {},
   "source": [
    "3. Crie uma função que recebe um número como parâmetro e exiba a tabuada até o 10, chame\n",
    "essa função por 3 vezes enviando parâmetros diferentes"
   ]
  },
  {
   "cell_type": "code",
   "execution_count": null,
   "metadata": {},
   "outputs": [],
   "source": [
    "def Tabuada(n) :\n",
    "    for x in range (11) :\n",
    "        print(f'{n} x {x} = {n * x}') \n",
    "\n",
    "Tabuada(5)\n",
    "Tabuada(2)\n",
    "Tabuada(8)\n",
    "\n"
   ]
  },
  {
   "cell_type": "markdown",
   "metadata": {},
   "source": [
    "4. Crie uma função que receba 2 números e o operador matemático para realizar a operação\n",
    "(Ex. envio os parâmetros 2 e 5 e *, fazer a multiplicação), tratar as operações + - * / **"
   ]
  },
  {
   "cell_type": "code",
   "execution_count": null,
   "metadata": {},
   "outputs": [],
   "source": [
    "def Receber() :\n",
    "    "
   ]
  }
 ],
 "metadata": {
  "kernelspec": {
   "display_name": "Python 3",
   "language": "python",
   "name": "python3"
  },
  "language_info": {
   "codemirror_mode": {
    "name": "ipython",
    "version": 3
   },
   "file_extension": ".py",
   "mimetype": "text/x-python",
   "name": "python",
   "nbconvert_exporter": "python",
   "pygments_lexer": "ipython3",
   "version": "3.12.3"
  }
 },
 "nbformat": 4,
 "nbformat_minor": 2
}
