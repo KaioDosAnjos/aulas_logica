{
 "cells": [
  {
   "cell_type": "markdown",
   "metadata": {},
   "source": [
    "1. Escreva uma função que utilize uma variável global para contar o número de vezes que foi\n",
    "chamada. A função deve retornar o número atual de chamadas."
   ]
  },
  {
   "cell_type": "code",
   "execution_count": 23,
   "metadata": {},
   "outputs": [
    {
     "name": "stdout",
     "output_type": "stream",
     "text": [
      "6\n",
      "7\n",
      "-1\n",
      "8\n"
     ]
    }
   ],
   "source": [
    "numero = 5\n",
    "\n",
    "\n",
    "def Contar() :\n",
    "    global numero \n",
    "    #numero += 1\n",
    "    numero = numero + 1\n",
    "    print(numero)\n",
    "\n",
    "def Diminuir() :\n",
    "    numero = 0\n",
    "    numero = numero - 1 \n",
    "    print(numero)\n",
    "\n",
    "Contar()\n",
    "Contar()\n",
    "Diminuir()\n",
    "Contar()\n",
    "\n",
    "\n",
    "\n"
   ]
  },
  {
   "cell_type": "markdown",
   "metadata": {},
   "source": [
    "2. Crie um algoritmo que receba em variável global o valor atual do dólar e do euro, crie uma\n",
    "função que receba o valor a ser convertido e imprima a conversão em dólar e em euro "
   ]
  },
  {
   "cell_type": "code",
   "execution_count": 26,
   "metadata": {},
   "outputs": [
    {
     "name": "stdout",
     "output_type": "stream",
     "text": [
      "S$ 2500.0 equivale a US$487.3294346978558 e $458.7155963302752\n"
     ]
    }
   ],
   "source": [
    "ValorDolar = 5.13\n",
    "ValorEuro = 5.45\n",
    "\n",
    "def Conversao(real) :\n",
    "    dolar_convertido = real / ValorDolar\n",
    "    euro_convertido = real / ValorEuro\n",
    "    print(f'S$ {real} equivale a US${dolar_convertido} e ${euro_convertido}')\n",
    "\n",
    "valor = float(input('Digite o avarlor em R$'))\n",
    "Conversao(valor)\n",
    "\n",
    "    \n",
    "\n",
    "\n"
   ]
  },
  {
   "cell_type": "markdown",
   "metadata": {},
   "source": [
    "3. Escreva uma função que recebe um nome e o adicione a uma lista de nomes global. Em\n",
    "seguida, escreva outra função que remova um elemento dessa lista global recebendo o nome."
   ]
  },
  {
   "cell_type": "code",
   "execution_count": 30,
   "metadata": {},
   "outputs": [
    {
     "name": "stdout",
     "output_type": "stream",
     "text": [
      "['kaio', 'Pedro', 'Alexandre', 'Arthur', 'Oswaldo']\n",
      "['kaio', 'Pedro', 'Alexandre', 'Oswaldo']\n"
     ]
    }
   ],
   "source": [
    "ListaNomes = ['kaio','Pedro', 'Alexandre', 'Arthur']\n",
    "def Adicionar(Nome):\n",
    "    global ListaNomes\n",
    "    ListaNomes.append(Nome)\n",
    "    print(ListaNomes)\n",
    "\n",
    "\n",
    "def remover(Nome):\n",
    "    global ListaNomes\n",
    "    ListaNomes.remove(Nome)\n",
    "    print(ListaNomes)   \n",
    "\n",
    "\n",
    "\n",
    "Adicionar('Oswaldo')\n",
    "\n",
    "remover('Arthur')\n",
    "\n"
   ]
  },
  {
   "cell_type": "markdown",
   "metadata": {},
   "source": [
    "4."
   ]
  },
  {
   "cell_type": "code",
   "execution_count": 34,
   "metadata": {},
   "outputs": [
    {
     "name": "stdout",
     "output_type": "stream",
     "text": [
      "Menu\n",
      "[1] Depositar\n",
      "[2] Sacar\n",
      "[3] Consultar\n",
      "[4] Sair\n",
      "Seu saldo R$ 100.00\n"
     ]
    }
   ],
   "source": [
    "saldo = 0\n",
    "\n",
    "def Depositar(valor) :\n",
    "    global saldo\n",
    "    saldo = saldo + valor\n",
    "\n",
    "def Sacar (valor) :\n",
    "    global saldo\n",
    "    saldo = saldo - valor\n",
    "\n",
    "def ConsultarSaldo():\n",
    "    print(f'Seu saldo R$ {saldo:.2f}')\n",
    "\n",
    "    \n",
    "print('Menu')\n",
    "print('[1] Depositar')\n",
    "print('[2] Sacar')\n",
    "print('[3] Consultar')\n",
    "print('[4] Sair')\n",
    "while True :\n",
    "    opcao = input('Digite a opção do Menu')\n",
    "    if opcao == '1' :\n",
    "        valor = float(input('Digite o valor para depositar'))\n",
    "        Depositar(valor)\n",
    "    elif opcao == '2':\n",
    "        valor = float(input('Digite o valor para sacar:'))\n",
    "        Sacar(valor)\n",
    "    elif opcao == '3':\n",
    "        ConsultarSaldo()\n",
    "    else :\n",
    "        break\n",
    "\n"
   ]
  },
  {
   "cell_type": "markdown",
   "metadata": {},
   "source": [
    "5. "
   ]
  },
  {
   "cell_type": "code",
   "execution_count": 3,
   "metadata": {},
   "outputs": [
    {
     "name": "stdout",
     "output_type": "stream",
     "text": [
      "++++++++++++++++++++++++++++++++++++++++++++++++++++++++++++\n",
      "++++++++++++++++++++++++++++++++++++++++++++++++++++++++++++\n",
      "++++++++++++++++++++++++++++++++++++++++++++++++++++++++++++\n",
      "++++++++++++++++++++++++++++++++++++++++++++++++++++++++++++\n",
      "++++++++++++++++++++++++++++++++++++++++++++++++++++++++++++\n",
      "++++++++++++++++++++++++++++++++++++++++++++++++++++++++++++\n",
      "++++++++++++++++++++++++++++++++++++++++++++++++++++++++++++\n"
     ]
    }
   ],
   "source": [
    "caractere = '+'\n",
    "def desenharForma(l, a) :\n",
    "    global caractere\n",
    "    for i in range(a) :\n",
    "        print(caractere * l)\n",
    "\n",
    "desenharForma(60,7)"
   ]
  }
 ],
 "metadata": {
  "kernelspec": {
   "display_name": "Python 3",
   "language": "python",
   "name": "python3"
  },
  "language_info": {
   "codemirror_mode": {
    "name": "ipython",
    "version": 3
   },
   "file_extension": ".py",
   "mimetype": "text/x-python",
   "name": "python",
   "nbconvert_exporter": "python",
   "pygments_lexer": "ipython3",
   "version": "3.12.3"
  }
 },
 "nbformat": 4,
 "nbformat_minor": 2
}
