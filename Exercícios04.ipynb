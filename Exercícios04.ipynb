{
 "cells": [
  {
   "cell_type": "markdown",
   "metadata": {},
   "source": [
    " 1. Desafio        Peça o salário do funcionário e calcule o valor do IRPF e INSS do funcionário e quanto ele irá\n",
    "receber no final do mês, considerando a seguinte tabela:"
   ]
  },
  {
   "cell_type": "code",
   "execution_count": 11,
   "metadata": {},
   "outputs": [
    {
     "name": "stdout",
     "output_type": "stream",
     "text": [
      "Seu salário líquido será: R$ 7250.00\n"
     ]
    }
   ],
   "source": [
    "salario = float(input('Digite o salario'))\n",
    "#Considerando apenas a tabela de IRPF\n",
    "if salario < 2259 :\n",
    "    desconto_irpf = 0\n",
    "elif salario <= 2826.65 :\n",
    "    desconto_irpf = salario * 0.075\n",
    "elif salario <= 3751.05 :\n",
    "    desconto_irpf = salario * 0.15\n",
    "elif salario <= 4664.68 :\n",
    "    desconto_irpf = salario * 0.225\n",
    "else :\n",
    "    desconto_irpf = salario * 0.275 \n",
    "\n",
    "#Considerando a tabela de INNSS\n",
    "if salario <= 1412 :\n",
    "    desconto_inss = salario * 0.075\n",
    "elif salario <= 2666.68 :\n",
    "    desconto_inss = salario * 0.09\n",
    "elif salario <= 4000.03 :\n",
    "    desconto_inss = salario * 0.12 \n",
    "elif salario <= 7786.02 :\n",
    "    desconto_inss = salario * 0.14\n",
    "else :\n",
    "    desconto_inss = 908.85\n",
    "\n",
    "    salario_liquido = salario - desconto_irpf\n",
    "    print(f'Seu salário líquido será: R$ {salario_liquido:.2f}')"
   ]
  },
  {
   "cell_type": "markdown",
   "metadata": {},
   "source": [
    "2. Para melhorar nosso desafio 01, vamos criar um novo calculando de forma real.\n",
    "Peça o salário do funcionário e calcule o valor do IRPF e INSS do funcionário e quanto ele irá\n",
    "receber no final do mês, considerando as seguintes tabelas e fórmulas:\n",
    "- Para calcular o INSS é calculado sobre o valor bruto do salário\n",
    "- Para calcular o IRPF é aplicado a tabela abaixo sobre o valor bruto menos o valor do INSS"
   ]
  },
  {
   "cell_type": "code",
   "execution_count": null,
   "metadata": {},
   "outputs": [],
   "source": []
  }
 ],
 "metadata": {
  "kernelspec": {
   "display_name": "Python 3",
   "language": "python",
   "name": "python3"
  },
  "language_info": {
   "codemirror_mode": {
    "name": "ipython",
    "version": 3
   },
   "file_extension": ".py",
   "mimetype": "text/x-python",
   "name": "python",
   "nbconvert_exporter": "python",
   "pygments_lexer": "ipython3",
   "version": "3.12.2"
  }
 },
 "nbformat": 4,
 "nbformat_minor": 2
}
