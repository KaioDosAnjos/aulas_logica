{
 "cells": [
  {
   "cell_type": "markdown",
   "metadata": {},
   "source": [
    "1. Utilizando o comando While, exiba todos os numero pares de 1 a 20"
   ]
  },
  {
   "cell_type": "code",
   "execution_count": 3,
   "metadata": {},
   "outputs": [
    {
     "name": "stdout",
     "output_type": "stream",
     "text": [
      "O número 2 é par\n",
      "O número 4 é par\n",
      "O número 6 é par\n",
      "O número 8 é par\n",
      "O número 10 é par\n",
      "O número 12 é par\n",
      "O número 14 é par\n",
      "O número 16 é par\n",
      "O número 18 é par\n",
      "O número 20 é par\n"
     ]
    }
   ],
   "source": [
    "x = 1\n",
    "while x <= 20 :\n",
    "    if x % 2 == 0 :\n",
    "        print(f'O número {x} é par')\n",
    "    x = x + 1"
   ]
  },
  {
   "cell_type": "markdown",
   "metadata": {},
   "source": [
    "2. Gere os 6 números do sorteio da mega-sena de forma aleatória."
   ]
  },
  {
   "cell_type": "code",
   "execution_count": 129,
   "metadata": {},
   "outputs": [
    {
     "name": "stdout",
     "output_type": "stream",
     "text": [
      "38\n",
      "51\n",
      "13\n",
      "53\n",
      "28\n",
      "53\n"
     ]
    }
   ],
   "source": [
    "import random \n",
    "nrMegasena = 0\n",
    "while  nrMegasena <= 6:\n",
    "    numero = random.randint (1,60)\n",
    "    if nrMegasena == 6 :\n",
    "        break\n",
    "    print(numero)\n",
    "    nrMegasena = nrMegasena + 1\n",
    "    \n",
    "\n",
    "    \n",
    "    \n",
    "\n",
    "    \n",
    "\n",
    "\n"
   ]
  },
  {
   "cell_type": "markdown",
   "metadata": {},
   "source": [
    "3. Receba alguns número e verifique a soma e a quantidade de todos os pares e ímpares\n",
    "digitados, digite 0 para não receber mais"
   ]
  },
  {
   "cell_type": "code",
   "execution_count": 133,
   "metadata": {},
   "outputs": [
    {
     "name": "stdout",
     "output_type": "stream",
     "text": [
      " A soma é 6145 são 8 pares e 9 impares\n"
     ]
    }
   ],
   "source": [
    "soma = 0 \n",
    "Qtpar = 0\n",
    "Qtimpar = 0\n",
    "\n",
    "while True :\n",
    "    nr = int(input('Digite o valor [0] para não receber mais'))\n",
    "    if nr == 0 :\n",
    "        break\n",
    "    if nr %2 == 0 :\n",
    "        Qtpar += 1 # QtPar = QtPar\n",
    "    else :\n",
    "        Qtimpar += 1 # QtImpar = QtImpar + 1\n",
    "    soma += nr\n",
    "\n",
    "print(f' A soma é {soma} são {Qtpar} pares e {Qtimpar} impares')\n",
    "\n",
    "    \n",
    "\n",
    "\n",
    "\n",
    "\n",
    "    "
   ]
  },
  {
   "cell_type": "markdown",
   "metadata": {},
   "source": [
    "4. Faça um programa em Python que leia 5 valores inteiros e:\n",
    "• Encontre e mostre o maior valor\n",
    "• Encontre e mostre o menor valor\n",
    "• Calcule e mostre a média dos números lidos"
   ]
  },
  {
   "cell_type": "code",
   "execution_count": 28,
   "metadata": {},
   "outputs": [
    {
     "data": {
      "text/plain": [
       "False"
      ]
     },
     "execution_count": 28,
     "metadata": {},
     "output_type": "execute_result"
    }
   ],
   "source": []
  }
 ],
 "metadata": {
  "kernelspec": {
   "display_name": "Python 3",
   "language": "python",
   "name": "python3"
  },
  "language_info": {
   "codemirror_mode": {
    "name": "ipython",
    "version": 3
   },
   "file_extension": ".py",
   "mimetype": "text/x-python",
   "name": "python",
   "nbconvert_exporter": "python",
   "pygments_lexer": "ipython3",
   "version": "3.12.2"
  }
 },
 "nbformat": 4,
 "nbformat_minor": 2
}
