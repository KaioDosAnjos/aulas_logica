{
 "cells": [
  {
   "cell_type": "code",
   "execution_count": 1,
   "metadata": {},
   "outputs": [
    {
     "name": "stdout",
     "output_type": "stream",
     "text": [
      "Reprovado\n"
     ]
    }
   ],
   "source": [
    "nota1 = float(input('Digite a primeira nota'))\n",
    "nota2 = float(input('Digite a segundo nota'))\n",
    "media = (nota1 + nota2) / 2\n",
    "if media > 7:\n",
    "    print('Aprovado')\n",
    "else :\n",
    "    print ('Reprovado')"
   ]
  },
  {
   "cell_type": "code",
   "execution_count": 11,
   "metadata": {},
   "outputs": [
    {
     "name": "stdout",
     "output_type": "stream",
     "text": [
      "Menor\n"
     ]
    }
   ],
   "source": [
    "numero1 = float(input('Digite o primeiro numero'))\n",
    "numero2 = float(input('Digite o segundo numero'))\n",
    "if numero1 > numero2:\n",
    "   print('Maior')\n",
    "else:\n",
    "   print('Menor')\n",
    "\n",
    "    \n"
   ]
  },
  {
   "cell_type": "code",
   "execution_count": 19,
   "metadata": {},
   "outputs": [
    {
     "name": "stdout",
     "output_type": "stream",
     "text": [
      "Par\n"
     ]
    }
   ],
   "source": [
    "NumeroInteiro = int(input('Digite o numero'))\n",
    "if NumeroInteiro % 2 == 0:\n",
    "    print('Par')\n",
    "else:\n",
    "    print('impar')\n",
    "\n",
    "\n"
   ]
  },
  {
   "cell_type": "code",
   "execution_count": null,
   "metadata": {},
   "outputs": [],
   "source": [
    "nr = int(input('Digite um numero'))\n",
    "\n",
    "if nr > 0:\n",
    "    print('Positivo')\n",
    "else:\n",
    "    print('Negativo')\n"
   ]
  },
  {
   "cell_type": "code",
   "execution_count": 23,
   "metadata": {},
   "outputs": [
    {
     "name": "stdout",
     "output_type": "stream",
     "text": [
      "menor\n"
     ]
    }
   ],
   "source": [
    "DataNacimento = int(input('Digite a data de nacimento'))\n",
    "idade = 2024 - DataNacimento\n",
    "if idade >= 18 :\n",
    "    print('maior de idade')\n",
    "else :\n",
    "    print('menor')\n"
   ]
  },
  {
   "cell_type": "code",
   "execution_count": 25,
   "metadata": {},
   "outputs": [
    {
     "name": "stdout",
     "output_type": "stream",
     "text": [
      "Igual\n"
     ]
    }
   ],
   "source": [
    "nr1 = int(input('Escreva o numero'))\n",
    "nr2 = int(input('Escreva o numero'))\n",
    "if nr1 >= nr2:\n",
    "    print('Igual')\n",
    "else:\n",
    "    print('Diferente')\n"
   ]
  },
  {
   "cell_type": "code",
   "execution_count": 27,
   "metadata": {},
   "outputs": [
    {
     "name": "stdout",
     "output_type": "stream",
     "text": [
      "A multa foi de 140.0\n"
     ]
    }
   ],
   "source": [
    "Velocidade = float(input('Digite a velocidade'))\n",
    "if Velocidade >= 80:\n",
    "    valor = (Velocidade - 80) * 7\n",
    "    print(f'A multa foi de {valor}')"
   ]
  },
  {
   "cell_type": "markdown",
   "metadata": {},
   "source": []
  },
  {
   "cell_type": "code",
   "execution_count": 42,
   "metadata": {},
   "outputs": [
    {
     "name": "stdout",
     "output_type": "stream",
     "text": [
      "Seu IMC é  0.1\n",
      "Abaixo do peso ideal!\n"
     ]
    }
   ],
   "source": [
    "altura = float(input('Digite sua altura (em m):'))\n",
    "peso = float(input('Digite seu peso em kg'))\n",
    "imc = peso / (altura**2)\n",
    "print(f'Seu IMC é {imc: .1f}')\n",
    "if  imc <18.5 :\n",
    "    print ('Abaixo do peso ideal!') \n",
    "elif imc >= 18.6 and imc <= 24.9 :\n",
    "    print('Peso ideal !')\n",
    "elif imc >= 25 and imc <= 29.9:\n",
    "    print('Sobre Peso')\n",
    "else:\n",
    "    print('Obesidade')\n"
   ]
  },
  {
   "cell_type": "code",
   "execution_count": null,
   "metadata": {},
   "outputs": [],
   "source": [
    "lado1 = int(input('Digite lado1:'))\n",
    "lado2 = int(input('Digite lado2:'))\n",
    "lado3 = int(input('Digite lado3:'))\n",
    "if (lado1==lado2) and (lado2==lado3):\n",
    "    print ('Triangulo Equilatero')\n",
    "elif(lado1 != lado2) and (lado2 != lado3) and (lado1 != lado3):\n",
    "    print('Tiangulo Escaleno')\n",
    "else:\n",
    "    print('Triangulo Isósceles')"
   ]
  }
 ],
 "metadata": {
  "kernelspec": {
   "display_name": "Python 3",
   "language": "python",
   "name": "python3"
  },
  "language_info": {
   "codemirror_mode": {
    "name": "ipython",
    "version": 3
   },
   "file_extension": ".py",
   "mimetype": "text/x-python",
   "name": "python",
   "nbconvert_exporter": "python",
   "pygments_lexer": "ipython3",
   "version": "3.12.2"
  }
 },
 "nbformat": 4,
 "nbformat_minor": 2
}
